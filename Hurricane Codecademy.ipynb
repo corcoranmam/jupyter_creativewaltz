{
 "cells": [
  {
   "cell_type": "code",
   "execution_count": 71,
   "metadata": {},
   "outputs": [
    {
     "name": "stdout",
     "output_type": "stream",
     "text": [
      "['Damages not recorded', '100M', 'Damages not recorded', '40M', '27.9M', '5M', 'Damages not recorded', '306M', '2M', '65.8M', '326M', '60.3M', '208M', '1.42B', '25.4M', 'Damages not recorded', '1.54B', '1.24B', '7.1B', '10B', '26.5B', '6.2B', '5.37B', '23.3B', '1.01B', '125B', '12B', '29.4B', '1.76B', '720M', '15.1B', '64.8B', '91.6B', '25.1B']\n"
     ]
    }
   ],
   "source": [
    "damages = ['Damages not recorded', '100M', 'Damages not recorded', '40M', '27.9M', '5M', 'Damages not recorded', '306M', '2M', '65.8M', '326M', '60.3M', '208M', '1.42B', '25.4M', 'Damages not recorded', '1.54B', '1.24B', '7.1B', '10B', '26.5B', '6.2B', '5.37B', '23.3B', '1.01B', '125B', '12B', '29.4B', '1.76B', '720M', '15.1B', '64.8B', '91.6B', '25.1B']\n",
    "print(damages)"
   ]
  },
  {
   "cell_type": "code",
   "execution_count": 72,
   "metadata": {},
   "outputs": [],
   "source": [
    "def format_damages(lst1):\n",
    "    updated_damages = []\n",
    "    for i in lst1:\n",
    "        if i == \"Damages not recorded\":\n",
    "            updated_damages.append(i)\n",
    "        elif i[-1] == \"B\":\n",
    "            updated_damages.append(1000000000*float(i[:-1]))\n",
    "        elif i[-1] == \"M\":\n",
    "            updated_damages.append(1000000*float(i[:-1]))\n",
    "    return updated_damages\n",
    "        "
   ]
  },
  {
   "cell_type": "code",
   "execution_count": 69,
   "metadata": {},
   "outputs": [
    {
     "data": {
      "text/plain": [
       "['Damages not recorded',\n",
       " 100000000.0,\n",
       " 'Damages not recorded',\n",
       " 40000000.0,\n",
       " 27900000.0,\n",
       " 5000000.0,\n",
       " 'Damages not recorded',\n",
       " 306000000.0,\n",
       " 2000000.0,\n",
       " 65800000.0,\n",
       " 326000000.0,\n",
       " 60300000.0,\n",
       " 208000000.0,\n",
       " 1420000000.0,\n",
       " 25400000.0,\n",
       " 'Damages not recorded',\n",
       " 1540000000.0,\n",
       " 1240000000.0,\n",
       " 7100000000.0,\n",
       " 10000000000.0,\n",
       " 26500000000.0,\n",
       " 6200000000.0,\n",
       " 5370000000.0,\n",
       " 23300000000.0,\n",
       " 1010000000.0,\n",
       " 125000000000.0,\n",
       " 12000000000.0,\n",
       " 29400000000.0,\n",
       " 1760000000.0,\n",
       " 720000000.0,\n",
       " 15100000000.0,\n",
       " 64800000000.0,\n",
       " 91600000000.0,\n",
       " 25100000000.0]"
      ]
     },
     "execution_count": 69,
     "metadata": {},
     "output_type": "execute_result"
    }
   ],
   "source": [
    "format_damages(damages)"
   ]
  },
  {
   "cell_type": "code",
   "execution_count": 70,
   "metadata": {
    "scrolled": true
   },
   "outputs": [
    {
     "name": "stdout",
     "output_type": "stream",
     "text": [
      "['Damages not recorded', 100000000.0, 'Damages not recorded', 40000000.0, 27900000.0, 5000000.0, 'Damages not recorded', 306000000.0, 2000000.0, 65800000.0, 326000000.0, 60300000.0, 208000000.0, 1420000000.0, 25400000.0, 'Damages not recorded', 1540000000.0, 1240000000.0, 7100000000.0, 10000000000.0, 26500000000.0, 6200000000.0, 5370000000.0, 23300000000.0, 1010000000.0, 125000000000.0, 12000000000.0, 29400000000.0, 1760000000.0, 720000000.0, 15100000000.0, 64800000000.0, 91600000000.0, 25100000000.0]\n"
     ]
    }
   ],
   "source": []
  },
  {
   "cell_type": "code",
   "execution_count": null,
   "metadata": {},
   "outputs": [],
   "source": []
  },
  {
   "cell_type": "code",
   "execution_count": null,
   "metadata": {},
   "outputs": [],
   "source": []
  }
 ],
 "metadata": {
  "kernelspec": {
   "display_name": "Python 3",
   "language": "python",
   "name": "python3"
  },
  "language_info": {
   "codemirror_mode": {
    "name": "ipython",
    "version": 3
   },
   "file_extension": ".py",
   "mimetype": "text/x-python",
   "name": "python",
   "nbconvert_exporter": "python",
   "pygments_lexer": "ipython3",
   "version": "3.8.5"
  }
 },
 "nbformat": 4,
 "nbformat_minor": 4
}
