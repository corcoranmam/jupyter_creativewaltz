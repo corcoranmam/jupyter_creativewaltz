{
 "cells": [
  {
   "cell_type": "code",
   "execution_count": 13,
   "metadata": {
    "scrolled": true
   },
   "outputs": [],
   "source": [
    "damages = ['Damages not recorded', '100M', 'Damages not recorded', '40M', '27.9M', '5M', 'Damages not recorded', '306M', '2M', '65.8M', '326M', '60.3M', '208M', '1.42B', '25.4M', 'Damages not recorded', '1.54B', '1.24B', '7.1B', '10B', '26.5B', '6.2B', '5.37B', '23.3B', '1.01B', '125B', '12B', '29.4B', '1.76B', '720M', '15.1B', '64.8B', '91.6B', '25.1B']"
   ]
  },
  {
   "cell_type": "code",
   "execution_count": 14,
   "metadata": {},
   "outputs": [],
   "source": [
    "def format_damages(lst1):\n",
    "    updated_damages = []\n",
    "    for i in lst1:\n",
    "        if i == \"Damages not recorded\":\n",
    "            updated_damages.append(i)\n",
    "        elif i[-1] == \"B\":\n",
    "            updated_damages.append(1000000000*float(i[:-1]))\n",
    "        elif i[-1] == \"M\":\n",
    "            updated_damages.append(1000000*float(i[:-1]))\n",
    "    return updated_damages\n",
    "        "
   ]
  },
  {
   "cell_type": "code",
   "execution_count": 15,
   "metadata": {
    "scrolled": false
   },
   "outputs": [
    {
     "data": {
      "text/plain": [
       "['Damages not recorded',\n",
       " 100000000.0,\n",
       " 'Damages not recorded',\n",
       " 40000000.0,\n",
       " 27900000.0,\n",
       " 5000000.0,\n",
       " 'Damages not recorded',\n",
       " 306000000.0,\n",
       " 2000000.0,\n",
       " 65800000.0,\n",
       " 326000000.0,\n",
       " 60300000.0,\n",
       " 208000000.0,\n",
       " 1420000000.0,\n",
       " 25400000.0,\n",
       " 'Damages not recorded',\n",
       " 1540000000.0,\n",
       " 1240000000.0,\n",
       " 7100000000.0,\n",
       " 10000000000.0,\n",
       " 26500000000.0,\n",
       " 6200000000.0,\n",
       " 5370000000.0,\n",
       " 23300000000.0,\n",
       " 1010000000.0,\n",
       " 125000000000.0,\n",
       " 12000000000.0,\n",
       " 29400000000.0,\n",
       " 1760000000.0,\n",
       " 720000000.0,\n",
       " 15100000000.0,\n",
       " 64800000000.0,\n",
       " 91600000000.0,\n",
       " 25100000000.0]"
      ]
     },
     "execution_count": 15,
     "metadata": {},
     "output_type": "execute_result"
    }
   ],
   "source": [
    "format_damages(damages)"
   ]
  },
  {
   "cell_type": "code",
   "execution_count": 16,
   "metadata": {},
   "outputs": [],
   "source": [
    "updated_damages = format_damages(damages)"
   ]
  },
  {
   "cell_type": "code",
   "execution_count": 17,
   "metadata": {},
   "outputs": [],
   "source": [
    "names = ['Cuba I', 'San Felipe II Okeechobee', 'Bahamas', 'Cuba II', 'CubaBrownsville', 'Tampico', 'Labor Day', 'New England', 'Carol', 'Janet', 'Carla', 'Hattie', 'Beulah', 'Camille', 'Edith', 'Anita', 'David', 'Allen', 'Gilbert', 'Hugo', 'Andrew', 'Mitch', 'Isabel', 'Ivan', 'Emily', 'Katrina', 'Rita', 'Wilma', 'Dean', 'Felix', 'Matthew', 'Irma', 'Maria', 'Michael']"
   ]
  },
  {
   "cell_type": "code",
   "execution_count": 18,
   "metadata": {},
   "outputs": [],
   "source": [
    "months = ['October', 'September', 'September', 'November', 'August', 'September', 'September', 'September', 'September', 'September', 'September', 'October', 'September', 'August', 'September', 'September', 'August', 'August', 'September', 'September', 'August', 'October', 'September', 'September', 'July', 'August', 'September', 'October', 'August', 'September', 'October', 'September', 'September', 'October']"
   ]
  },
  {
   "cell_type": "code",
   "execution_count": 19,
   "metadata": {},
   "outputs": [],
   "source": [
    "years = [1924, 1928, 1932, 1932, 1933, 1933, 1935, 1938, 1953, 1955, 1961, 1961, 1967, 1969, 1971, 1977, 1979, 1980, 1988, 1989, 1992, 1998, 2003, 2004, 2005, 2005, 2005, 2005, 2007, 2007, 2016, 2017, 2017, 2018]"
   ]
  },
  {
   "cell_type": "code",
   "execution_count": 20,
   "metadata": {},
   "outputs": [],
   "source": [
    "max_sustained_winds = [165, 160, 160, 175, 160, 160, 185, 160, 160, 175, 175, 160, 160, 175, 160, 175, 175, 190, 185, 160, 175, 180, 165, 165, 160, 175, 180, 185, 175, 175, 165, 180, 175, 160]"
   ]
  },
  {
   "cell_type": "code",
   "execution_count": 21,
   "metadata": {},
   "outputs": [],
   "source": [
    "areas_affected = [['Central America', 'Mexico', 'Cuba', 'Florida', 'The Bahamas'], ['Lesser Antilles', 'The Bahamas', 'United States East Coast', 'Atlantic Canada'], ['The Bahamas', 'Northeastern United States'], ['Lesser Antilles', 'Jamaica', 'Cayman Islands', 'Cuba', 'The Bahamas', 'Bermuda'], ['The Bahamas', 'Cuba', 'Florida', 'Texas', 'Tamaulipas'], ['Jamaica', 'Yucatn Peninsula'], ['The Bahamas', 'Florida', 'Georgia', 'The Carolinas', 'Virginia'], ['Southeastern United States', 'Northeastern United States', 'Southwestern Quebec'], ['Bermuda', 'New England', 'Atlantic Canada'], ['Lesser Antilles', 'Central America'], ['Texas', 'Louisiana', 'Midwestern United States'], ['Central America'], ['The Caribbean', 'Mexico', 'Texas'], ['Cuba', 'United States Gulf Coast'], ['The Caribbean', 'Central America', 'Mexico', 'United States Gulf Coast'], ['Mexico'], ['The Caribbean', 'United States East coast'], ['The Caribbean', 'Yucatn Peninsula', 'Mexico', 'South Texas'], ['Jamaica', 'Venezuela', 'Central America', 'Hispaniola', 'Mexico'], ['The Caribbean', 'United States East Coast'], ['The Bahamas', 'Florida', 'United States Gulf Coast'], ['Central America', 'Yucatn Peninsula', 'South Florida'], ['Greater Antilles', 'Bahamas', 'Eastern United States', 'Ontario'], ['The Caribbean', 'Venezuela', 'United States Gulf Coast'], ['Windward Islands', 'Jamaica', 'Mexico', 'Texas'], ['Bahamas', 'United States Gulf Coast'], ['Cuba', 'United States Gulf Coast'], ['Greater Antilles', 'Central America', 'Florida'], ['The Caribbean', 'Central America'], ['Nicaragua', 'Honduras'], ['Antilles', 'Venezuela', 'Colombia', 'United States East Coast', 'Atlantic Canada'], ['Cape Verde', 'The Caribbean', 'British Virgin Islands', 'U.S. Virgin Islands', 'Cuba', 'Florida'], ['Lesser Antilles', 'Virgin Islands', 'Puerto Rico', 'Dominican Republic', 'Turks and Caicos Islands'], ['Central America', 'United States Gulf Coast (especially Florida Panhandle)']]"
   ]
  },
  {
   "cell_type": "code",
   "execution_count": 22,
   "metadata": {},
   "outputs": [],
   "source": [
    "deaths = [90,4000,16,3103,179,184,408,682,5,1023,43,319,688,259,37,11,2068,269,318,107,65,19325,51,124,17,1836,125,87,45,133,603,138,3057,74]"
   ]
  },
  {
   "cell_type": "code",
   "execution_count": 23,
   "metadata": {},
   "outputs": [],
   "source": [
    "new_dictionary = {z[0]: list(z[1:]) for z in zip(names, months, years, max_sustained_winds, areas_affected, updated_damages, deaths)}"
   ]
  },
  {
   "cell_type": "code",
   "execution_count": 25,
   "metadata": {},
   "outputs": [],
   "source": [
    "new_table = zip(names, months, years, max_sustained_winds, areas_affected, updated_damages, deaths)"
   ]
  },
  {
   "cell_type": "code",
   "execution_count": 28,
   "metadata": {},
   "outputs": [],
   "source": [
    "new_dictionary_2 = {z[0]: list(z[1:]) for z in new_table}"
   ]
  },
  {
   "cell_type": "code",
   "execution_count": 29,
   "metadata": {},
   "outputs": [
    {
     "name": "stdout",
     "output_type": "stream",
     "text": [
      "{'Cuba I': ['October', 1924, 165, ['Central America', 'Mexico', 'Cuba', 'Florida', 'The Bahamas'], 'Damages not recorded', 90], 'San Felipe II Okeechobee': ['September', 1928, 160, ['Lesser Antilles', 'The Bahamas', 'United States East Coast', 'Atlantic Canada'], 100000000.0, 4000], 'Bahamas': ['September', 1932, 160, ['The Bahamas', 'Northeastern United States'], 'Damages not recorded', 16], 'Cuba II': ['November', 1932, 175, ['Lesser Antilles', 'Jamaica', 'Cayman Islands', 'Cuba', 'The Bahamas', 'Bermuda'], 40000000.0, 3103], 'CubaBrownsville': ['August', 1933, 160, ['The Bahamas', 'Cuba', 'Florida', 'Texas', 'Tamaulipas'], 27900000.0, 179], 'Tampico': ['September', 1933, 160, ['Jamaica', 'Yucatn Peninsula'], 5000000.0, 184], 'Labor Day': ['September', 1935, 185, ['The Bahamas', 'Florida', 'Georgia', 'The Carolinas', 'Virginia'], 'Damages not recorded', 408], 'New England': ['September', 1938, 160, ['Southeastern United States', 'Northeastern United States', 'Southwestern Quebec'], 306000000.0, 682], 'Carol': ['September', 1953, 160, ['Bermuda', 'New England', 'Atlantic Canada'], 2000000.0, 5], 'Janet': ['September', 1955, 175, ['Lesser Antilles', 'Central America'], 65800000.0, 1023], 'Carla': ['September', 1961, 175, ['Texas', 'Louisiana', 'Midwestern United States'], 326000000.0, 43], 'Hattie': ['October', 1961, 160, ['Central America'], 60300000.0, 319], 'Beulah': ['September', 1967, 160, ['The Caribbean', 'Mexico', 'Texas'], 208000000.0, 688], 'Camille': ['August', 1969, 175, ['Cuba', 'United States Gulf Coast'], 1420000000.0, 259], 'Edith': ['September', 1971, 160, ['The Caribbean', 'Central America', 'Mexico', 'United States Gulf Coast'], 25400000.0, 37], 'Anita': ['September', 1977, 175, ['Mexico'], 'Damages not recorded', 11], 'David': ['August', 1979, 175, ['The Caribbean', 'United States East coast'], 1540000000.0, 2068], 'Allen': ['August', 1980, 190, ['The Caribbean', 'Yucatn Peninsula', 'Mexico', 'South Texas'], 1240000000.0, 269], 'Gilbert': ['September', 1988, 185, ['Jamaica', 'Venezuela', 'Central America', 'Hispaniola', 'Mexico'], 7100000000.0, 318], 'Hugo': ['September', 1989, 160, ['The Caribbean', 'United States East Coast'], 10000000000.0, 107], 'Andrew': ['August', 1992, 175, ['The Bahamas', 'Florida', 'United States Gulf Coast'], 26500000000.0, 65], 'Mitch': ['October', 1998, 180, ['Central America', 'Yucatn Peninsula', 'South Florida'], 6200000000.0, 19325], 'Isabel': ['September', 2003, 165, ['Greater Antilles', 'Bahamas', 'Eastern United States', 'Ontario'], 5370000000.0, 51], 'Ivan': ['September', 2004, 165, ['The Caribbean', 'Venezuela', 'United States Gulf Coast'], 23300000000.0, 124], 'Emily': ['July', 2005, 160, ['Windward Islands', 'Jamaica', 'Mexico', 'Texas'], 1010000000.0, 17], 'Katrina': ['August', 2005, 175, ['Bahamas', 'United States Gulf Coast'], 125000000000.0, 1836], 'Rita': ['September', 2005, 180, ['Cuba', 'United States Gulf Coast'], 12000000000.0, 125], 'Wilma': ['October', 2005, 185, ['Greater Antilles', 'Central America', 'Florida'], 29400000000.0, 87], 'Dean': ['August', 2007, 175, ['The Caribbean', 'Central America'], 1760000000.0, 45], 'Felix': ['September', 2007, 175, ['Nicaragua', 'Honduras'], 720000000.0, 133], 'Matthew': ['October', 2016, 165, ['Antilles', 'Venezuela', 'Colombia', 'United States East Coast', 'Atlantic Canada'], 15100000000.0, 603], 'Irma': ['September', 2017, 180, ['Cape Verde', 'The Caribbean', 'British Virgin Islands', 'U.S. Virgin Islands', 'Cuba', 'Florida'], 64800000000.0, 138], 'Maria': ['September', 2017, 175, ['Lesser Antilles', 'Virgin Islands', 'Puerto Rico', 'Dominican Republic', 'Turks and Caicos Islands'], 91600000000.0, 3057], 'Michael': ['October', 2018, 160, ['Central America', 'United States Gulf Coast (especially Florida Panhandle)'], 25100000000.0, 74]}\n"
     ]
    }
   ],
   "source": [
    "print(new_dictionary_2)"
   ]
  },
  {
   "cell_type": "code",
   "execution_count": null,
   "metadata": {},
   "outputs": [],
   "source": []
  }
 ],
 "metadata": {
  "kernelspec": {
   "display_name": "Python 3",
   "language": "python",
   "name": "python3"
  },
  "language_info": {
   "codemirror_mode": {
    "name": "ipython",
    "version": 3
   },
   "file_extension": ".py",
   "mimetype": "text/x-python",
   "name": "python",
   "nbconvert_exporter": "python",
   "pygments_lexer": "ipython3",
   "version": "3.8.5"
  }
 },
 "nbformat": 4,
 "nbformat_minor": 4
}
