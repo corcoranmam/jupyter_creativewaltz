{
 "cells": [
  {
   "cell_type": "markdown",
   "metadata": {},
   "source": [
    "# U.S. Medical Insurance Costs"
   ]
  },
  {
   "cell_type": "code",
   "execution_count": 1,
   "metadata": {},
   "outputs": [],
   "source": [
    "#import the correct modules \n",
    "import csv\n"
   ]
  },
  {
   "cell_type": "code",
   "execution_count": 2,
   "metadata": {},
   "outputs": [],
   "source": [
    "#create an empty list for each data column in the csv, ready to be filled\n",
    "age = []\n",
    "sex = []\n",
    "bmi = []\n",
    "children = []\n",
    "smoker = []\n",
    "region = []\n",
    "charges = []"
   ]
  },
  {
   "cell_type": "code",
   "execution_count": 3,
   "metadata": {},
   "outputs": [],
   "source": [
    "#open the csv and import the data to the lists\n",
    "with open(\"insurance.csv\") as insurance_csv:\n",
    "  insurance_reader = csv.DictReader(insurance_csv, delimiter=\",\")\n",
    "  for row in insurance_reader:\n",
    "    age.append(row[\"age\"])\n",
    "    sex.append(row[\"sex\"])\n",
    "    bmi.append(row[\"bmi\"])\n",
    "    children.append(row[\"children\"])\n",
    "    smoker.append(row[\"smoker\"])\n",
    "    region.append(row[\"region\"])\n",
    "    charges.append(row[\"charges\"])"
   ]
  },
  {
   "cell_type": "code",
   "execution_count": 4,
   "metadata": {},
   "outputs": [],
   "source": [
    "#use a list comprehesion to round the charges to two decimal places\n",
    "rounded_charges = [ round(float(i),2) for i in charges]"
   ]
  },
  {
   "cell_type": "code",
   "execution_count": 57,
   "metadata": {},
   "outputs": [],
   "source": [
    "#check it imported correctly\n",
    "#print(age)\n",
    "#print(sex)\n",
    "#print(bmi)\n",
    "#print(children)\n",
    "#print(smoker)\n",
    "#print(region)\n",
    "#print(charges)\n",
    "#print(rounded_charges)"
   ]
  },
  {
   "cell_type": "code",
   "execution_count": 6,
   "metadata": {},
   "outputs": [],
   "source": [
    "#We can create one large dictionary now of all the records! We can use an int for the key of each record\n",
    "# and create a list of values for the value of the dictionary."
   ]
  },
  {
   "cell_type": "code",
   "execution_count": 7,
   "metadata": {},
   "outputs": [
    {
     "name": "stdout",
     "output_type": "stream",
     "text": [
      "1338\n"
     ]
    }
   ],
   "source": [
    "#Lets begin with our empty dictionary\n",
    "records = {}\n",
    "#Now get how many records there are\n",
    "num_records = len(age)\n",
    "print(num_records)"
   ]
  },
  {
   "cell_type": "code",
   "execution_count": 8,
   "metadata": {},
   "outputs": [],
   "source": [
    "#function to build the dictionary\n",
    "def create_dictionary(age, sex, bmi, children, smoker, region, charges):\n",
    "  for i in range(num_records):\n",
    "    records[i+1] = {\"Age\": age[i],\n",
    "                          \"Sex\": sex[i],\n",
    "                          \"BMI\": bmi[i],\n",
    "                          \"Children\": children[i],\n",
    "                          \"Smoker\": smoker[i],\n",
    "                          \"Region\": region[i],\n",
    "                          \"Charges\": charges[i]}\n",
    "  return records\n",
    "\n"
   ]
  },
  {
   "cell_type": "code",
   "execution_count": 9,
   "metadata": {},
   "outputs": [],
   "source": [
    "#Lets create the customer_record_dictionary!!!\n",
    "customer_records = create_dictionary(age, sex, bmi, children, smoker, region, rounded_charges)"
   ]
  },
  {
   "cell_type": "code",
   "execution_count": 10,
   "metadata": {},
   "outputs": [],
   "source": [
    "#Print customer_records to see how it looks\n",
    "#print(customer_records)"
   ]
  },
  {
   "cell_type": "code",
   "execution_count": 11,
   "metadata": {},
   "outputs": [],
   "source": [
    "#Now we need some high level summary statistics..."
   ]
  },
  {
   "cell_type": "code",
   "execution_count": 12,
   "metadata": {},
   "outputs": [
    {
     "name": "stdout",
     "output_type": "stream",
     "text": [
      "18 64 46\n"
     ]
    }
   ],
   "source": [
    "#lets see the total or average charge amounts per age category. We can start with a dictionary that defines our age ranges but we\n",
    "#the max and min age!\n",
    "max_age = int(max(age))\n",
    "min_age = int(min(age))\n",
    "age_range = (max_age-min_age)\n",
    "print(\"Min Age: \" + min_age + max_age + age_range)"
   ]
  },
  {
   "cell_type": "code",
   "execution_count": 60,
   "metadata": {},
   "outputs": [],
   "source": [
    "#What is the average age of the patients?\n",
    "def average_age(lst):\n",
    "    total_age = 0\n",
    "    for i in lst:\n",
    "        total_age += int(i)\n",
    "    return total_age/num_records"
   ]
  },
  {
   "cell_type": "code",
   "execution_count": 63,
   "metadata": {},
   "outputs": [
    {
     "name": "stdout",
     "output_type": "stream",
     "text": [
      "The average age is: 39.20702541106129\n"
     ]
    }
   ],
   "source": [
    "print (\"The average age is: \" + str(average_age(age)))"
   ]
  },
  {
   "cell_type": "code",
   "execution_count": 13,
   "metadata": {},
   "outputs": [],
   "source": [
    "age_category = {1:30, 2:40, 3:50, 4:60, 5:70} #we can use these later to categorize"
   ]
  },
  {
   "cell_type": "code",
   "execution_count": 14,
   "metadata": {},
   "outputs": [],
   "source": [
    "bmi_category = {1:18.5, 2:25, 3:30, 4:40} "
   ]
  },
  {
   "cell_type": "code",
   "execution_count": 15,
   "metadata": {},
   "outputs": [],
   "source": [
    "#What is the overall mean, max, min and range of charges??\n",
    "def sum_charges(charges):\n",
    "    total = 0\n",
    "    for i in charges:\n",
    "        total += i\n",
    "    return total\n",
    "\n"
   ]
  },
  {
   "cell_type": "code",
   "execution_count": 16,
   "metadata": {},
   "outputs": [
    {
     "name": "stdout",
     "output_type": "stream",
     "text": [
      "17755825.01\n"
     ]
    }
   ],
   "source": [
    "total_charges = sum_charges(rounded_charges)\n",
    "print(round(total_charges,2))"
   ]
  },
  {
   "cell_type": "code",
   "execution_count": 17,
   "metadata": {},
   "outputs": [
    {
     "name": "stdout",
     "output_type": "stream",
     "text": [
      "13270.422279521654\n"
     ]
    }
   ],
   "source": [
    "avg_charge = total_charges/num_records\n",
    "print(avg_charge)"
   ]
  },
  {
   "cell_type": "code",
   "execution_count": 18,
   "metadata": {},
   "outputs": [],
   "source": [
    "#Where do all the patients live? This gives us the count and all the locations\n",
    "def count_locations(lst):\n",
    "    \n",
    "    location_count = {}\n",
    "    for i in lst:\n",
    "        if i not in location_count:\n",
    "            location_count[i] = 1\n",
    "        else:\n",
    "            location_count[i] += 1\n",
    "    return location_count\n",
    "        "
   ]
  },
  {
   "cell_type": "code",
   "execution_count": 19,
   "metadata": {},
   "outputs": [
    {
     "name": "stdout",
     "output_type": "stream",
     "text": [
      "{'southwest': 325, 'southeast': 364, 'northwest': 325, 'northeast': 324}\n"
     ]
    }
   ],
   "source": [
    "print(count_locations(region))"
   ]
  },
  {
   "cell_type": "code",
   "execution_count": 20,
   "metadata": {},
   "outputs": [],
   "source": [
    "def count_sex(lst):\n",
    "    age_count = {}\n",
    "    for i in lst:\n",
    "        if i not in age_count:\n",
    "            age_count[i] = 1\n",
    "        else:\n",
    "            age_count[i] += 1\n",
    "    return age_count"
   ]
  },
  {
   "cell_type": "code",
   "execution_count": 21,
   "metadata": {},
   "outputs": [
    {
     "name": "stdout",
     "output_type": "stream",
     "text": [
      "{'female': 662, 'male': 676}\n"
     ]
    }
   ],
   "source": [
    "print(count_locations(sex))"
   ]
  },
  {
   "cell_type": "code",
   "execution_count": 22,
   "metadata": {},
   "outputs": [],
   "source": [
    "#lets group our clients by age\n",
    "def age_cats(dict1):\n",
    "    age_groups =  {\"30 & Under\":0,  \"31-40\" :0,  \"41-50\" :0,  \"51-60\":0, \"61-70\":0 }\n",
    "    for i in dict1:\n",
    "        if int(dict1[i][\"Age\"]) < 31:\n",
    "            age_groups[\"30 & Under\"] += 1\n",
    "        elif int(dict1[i][\"Age\"]) < 41 and  int(dict1[i][\"Age\"]) >= 31:\n",
    "            age_groups[\"31-40\"] += 1\n",
    "        elif int(dict1[i][\"Age\"]) < 51 and  int(dict1[i][\"Age\"]) >= 41:\n",
    "            age_groups[\"41-50\"] += 1\n",
    "        elif int(dict1[i][\"Age\"]) < 61 and  int(dict1[i][\"Age\"]) >= 51:\n",
    "            age_groups[\"51-60\"] += 1\n",
    "        elif int(dict1[i][\"Age\"]) < 71 and  int(dict1[i][\"Age\"]) >= 61:\n",
    "            age_groups[\"61-70\"] += 1\n",
    "    return age_groups"
   ]
  },
  {
   "cell_type": "code",
   "execution_count": 23,
   "metadata": {},
   "outputs": [
    {
     "name": "stdout",
     "output_type": "stream",
     "text": [
      "{'30 & Under': 444, '31-40': 257, '41-50': 281, '51-60': 265, '61-70': 91}\n"
     ]
    }
   ],
   "source": [
    "count_in_cats = age_cats(records)\n",
    "print(count_in_cats)"
   ]
  },
  {
   "cell_type": "code",
   "execution_count": 24,
   "metadata": {},
   "outputs": [],
   "source": [
    "#how about the average price per age?\n",
    "def total_charge_age(dict1):\n",
    "    age_groups =  {\"30 & Under\":0,  \"31-40\" :0,  \"41-50\" :0,  \"51-60\":0, \"61-70\":0 }\n",
    "    for i in dict1:\n",
    "        if int(dict1[i][\"Age\"]) < 31:\n",
    "            age_groups[\"30 & Under\"] += dict1[i][\"Charges\"]\n",
    "        elif int(dict1[i][\"Age\"]) < 41 and  int(dict1[i][\"Age\"]) >= 31:\n",
    "            age_groups[\"31-40\"] += dict1[i][\"Charges\"]\n",
    "        elif int(dict1[i][\"Age\"]) < 51 and  int(dict1[i][\"Age\"]) >= 41:\n",
    "            age_groups[\"41-50\"] += dict1[i][\"Charges\"]\n",
    "        elif int(dict1[i][\"Age\"]) < 61 and  int(dict1[i][\"Age\"]) >= 51:\n",
    "            age_groups[\"51-60\"] += dict1[i][\"Charges\"]\n",
    "        elif int(dict1[i][\"Age\"]) < 71 and  int(dict1[i][\"Age\"]) >= 61:\n",
    "            age_groups[\"61-70\"] += dict1[i][\"Charges\"]\n",
    "    return age_groups\n",
    "    "
   ]
  },
  {
   "cell_type": "code",
   "execution_count": 25,
   "metadata": {},
   "outputs": [],
   "source": [
    "total_age_charge = total_charge_age(records)"
   ]
  },
  {
   "cell_type": "code",
   "execution_count": 26,
   "metadata": {},
   "outputs": [
    {
     "name": "stdout",
     "output_type": "stream",
     "text": [
      "{'30 & Under': 9397.552184684691, '31-40': 11639.308560311285, '41-50': 14782.043024911027, '51-60': 17062.292792452838, '61-70': 21063.163296703307}\n"
     ]
    }
   ],
   "source": [
    "avg_age_charges = {}\n",
    "avg_age_charges[\"30 & Under\"] = total_age_charge[\"30 & Under\"]/count_in_cats[\"30 & Under\"]\n",
    "avg_age_charges[\"31-40\"] = total_age_charge[\"31-40\"]/count_in_cats[\"31-40\"]\n",
    "avg_age_charges[\"41-50\"] = total_age_charge[\"41-50\"]/count_in_cats[\"41-50\"]\n",
    "avg_age_charges[\"51-60\"] = total_age_charge[\"51-60\"]/count_in_cats[\"51-60\"]\n",
    "avg_age_charges[\"61-70\"] = total_age_charge[\"61-70\"]/count_in_cats[\"61-70\"]\n",
    "print(avg_age_charges)\n"
   ]
  },
  {
   "cell_type": "code",
   "execution_count": 52,
   "metadata": {},
   "outputs": [],
   "source": [
    "#Lets calculate the average insurance cost between the two sexes, lets use only the patient record dictionary.\n",
    "def avg_cost_by_sex(dict1):\n",
    "    num_males = 0\n",
    "    num_females = 0\n",
    "    total_female_costs = 0\n",
    "    total_male_costs = 0\n",
    "    for i in records:\n",
    "        if records[i][\"Sex\"] == \"male\":\n",
    "            num_males += 1\n",
    "            total_male_costs += records[i][\"Charges\"]\n",
    "        elif records[i][\"Sex\"] == \"female\":\n",
    "            num_females += 1\n",
    "            total_female_costs += records[i][\"Charges\"]\n",
    "    avg_cost_male = round(total_male_costs/num_males,2)\n",
    "    avg_cost_female = round(total_female_costs/num_females,2)\n",
    "    return {\"Male\":avg_cost_male,\"Female\": avg_cost_female}\n",
    "            "
   ]
  },
  {
   "cell_type": "code",
   "execution_count": 53,
   "metadata": {},
   "outputs": [
    {
     "name": "stdout",
     "output_type": "stream",
     "text": [
      "{'Male': 13956.75, 'Female': 12569.58}\n"
     ]
    }
   ],
   "source": [
    "print(avg_cost_by_sex(records))"
   ]
  },
  {
   "cell_type": "code",
   "execution_count": 58,
   "metadata": {},
   "outputs": [],
   "source": [
    "#Lets do it again for smokers!\n",
    "def avg_cost_by_smoker(dict1):\n",
    "    num_smokers = 0\n",
    "    num_non_smokers = 0\n",
    "    total_smoker_costs = 0\n",
    "    total_non_smoker_costs = 0\n",
    "    for i in records:\n",
    "        if records[i][\"Smoker\"] == \"yes\":\n",
    "            num_smokers += 1\n",
    "            total_smoker_costs += records[i][\"Charges\"]\n",
    "        elif records[i][\"Smoker\"] == \"no\":\n",
    "            num_non_smokers += 1\n",
    "            total_non_smoker_costs += records[i][\"Charges\"]\n",
    "    avg_cost_smoker = round(total_smoker_costs/num_smokers,2)\n",
    "    avg_cost_non_smoker = round(total_non_smoker_costs/num_non_smokers,2)\n",
    "    return {\"Smoker\":avg_cost_smoker,\"Non Smoker\": avg_cost_non_smoker}\n",
    "            "
   ]
  },
  {
   "cell_type": "code",
   "execution_count": 59,
   "metadata": {},
   "outputs": [
    {
     "name": "stdout",
     "output_type": "stream",
     "text": [
      "{'Smoker': 32050.23, 'Non Smoker': 8434.27}\n"
     ]
    }
   ],
   "source": [
    "print(avg_cost_by_smoker(records))"
   ]
  },
  {
   "cell_type": "code",
   "execution_count": null,
   "metadata": {},
   "outputs": [],
   "source": []
  }
 ],
 "metadata": {
  "kernelspec": {
   "display_name": "Python 3",
   "language": "python",
   "name": "python3"
  },
  "language_info": {
   "codemirror_mode": {
    "name": "ipython",
    "version": 3
   },
   "file_extension": ".py",
   "mimetype": "text/x-python",
   "name": "python",
   "nbconvert_exporter": "python",
   "pygments_lexer": "ipython3",
   "version": "3.8.5"
  }
 },
 "nbformat": 4,
 "nbformat_minor": 4
}
