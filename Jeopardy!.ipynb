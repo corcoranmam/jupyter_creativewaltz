{
 "cells": [
  {
   "cell_type": "code",
   "execution_count": 69,
   "metadata": {},
   "outputs": [],
   "source": [
    "import pandas as pd\n",
    "import numpy\n",
    "import csv"
   ]
  },
  {
   "cell_type": "code",
   "execution_count": 70,
   "metadata": {},
   "outputs": [],
   "source": [
    "df = pd.read_csv('jeopardy.csv') # the Jeopardy data file is provided by Codecademy"
   ]
  },
  {
   "cell_type": "code",
   "execution_count": 144,
   "metadata": {},
   "outputs": [
    {
     "name": "stdout",
     "output_type": "stream",
     "text": [
      "   Show Number    Air Date      Round                         Category Value  \\\n",
      "0         4680  2004-12-31  Jeopardy!                          HISTORY  $200   \n",
      "1         4680  2004-12-31  Jeopardy!  ESPN's TOP 10 ALL-TIME ATHLETES  $200   \n",
      "2         4680  2004-12-31  Jeopardy!      EVERYBODY TALKS ABOUT IT...  $200   \n",
      "3         4680  2004-12-31  Jeopardy!                 THE COMPANY LINE  $200   \n",
      "4         4680  2004-12-31  Jeopardy!              EPITAPHS & TRIBUTES  $200   \n",
      "\n",
      "                                            Question      Answer  \\\n",
      "0  For the last 8 years of his life, Galileo was ...  Copernicus   \n",
      "1  No. 2: 1912 Olympian; football star at Carlisl...  Jim Thorpe   \n",
      "2  The city of Yuma in this state has a record av...     Arizona   \n",
      "3  In 1963, live on \"The Art Linkletter Show\", th...  McDonald's   \n",
      "4  Signer of the Dec. of Indep., framer of the Co...  John Adams   \n",
      "\n",
      "   words in question  Float Value  \n",
      "0              False        200.0  \n",
      "1              False        200.0  \n",
      "2              False        200.0  \n",
      "3              False        200.0  \n",
      "4              False        200.0  \n",
      "<class 'pandas.core.frame.DataFrame'>\n",
      "RangeIndex: 216930 entries, 0 to 216929\n",
      "Data columns (total 9 columns):\n",
      " #   Column             Non-Null Count   Dtype  \n",
      "---  ------             --------------   -----  \n",
      " 0   Show Number        216930 non-null  int64  \n",
      " 1   Air Date           216930 non-null  object \n",
      " 2   Round              216930 non-null  object \n",
      " 3   Category           216930 non-null  object \n",
      " 4   Value              216930 non-null  object \n",
      " 5   Question           216930 non-null  object \n",
      " 6   Answer             216928 non-null  object \n",
      " 7   words in question  216930 non-null  bool   \n",
      " 8   Float Value        216930 non-null  float64\n",
      "dtypes: bool(1), float64(1), int64(1), object(6)\n",
      "memory usage: 13.4+ MB\n",
      "None\n"
     ]
    }
   ],
   "source": [
    "# What does Jeopardy! look like? \n",
    "print(df.head(5))\n",
    "print(df.info())"
   ]
  },
  {
   "cell_type": "code",
   "execution_count": 78,
   "metadata": {},
   "outputs": [
    {
     "name": "stdout",
     "output_type": "stream",
     "text": [
      "Column does not exist\n"
     ]
    }
   ],
   "source": [
    "# Lets look at a column.\n",
    "try:\n",
    "    print(df.Round)\n",
    "except AttributeError:\n",
    "    print(\"Column does not exist\")"
   ]
  },
  {
   "cell_type": "code",
   "execution_count": 79,
   "metadata": {},
   "outputs": [],
   "source": [
    "# Rename the columns so the data frame is easier to work with\n",
    "df.rename(columns=str.strip ,inplace=True) \n",
    "# we dont know how much whitespace is there so lets get rid of it all, and replace the dataframe with inplace"
   ]
  },
  {
   "cell_type": "code",
   "execution_count": 80,
   "metadata": {
    "collapsed": true
   },
   "outputs": [
    {
     "name": "stdout",
     "output_type": "stream",
     "text": [
      "0                Jeopardy!\n",
      "1                Jeopardy!\n",
      "2                Jeopardy!\n",
      "3                Jeopardy!\n",
      "4                Jeopardy!\n",
      "                ...       \n",
      "216925    Double Jeopardy!\n",
      "216926    Double Jeopardy!\n",
      "216927    Double Jeopardy!\n",
      "216928    Double Jeopardy!\n",
      "216929     Final Jeopardy!\n",
      "Name: Round, Length: 216930, dtype: object\n"
     ]
    }
   ],
   "source": [
    "# Can we look at a column now?\n",
    "print(df.Round) #Success "
   ]
  },
  {
   "cell_type": "code",
   "execution_count": 112,
   "metadata": {},
   "outputs": [],
   "source": [
    "def filter_data(data, words):\n",
    "  # Lowercases all words in the list of words as well as the questions. Returns true is all of the words in the list appear in the question.\n",
    "  filter = lambda x: all(word in x for word in words)\n",
    "  # Applies the labmda function to the Question column and returns the rows where the function returned True\n",
    "  return data.loc[data[\"Question\"].apply(filter)]"
   ]
  },
  {
   "cell_type": "code",
   "execution_count": 113,
   "metadata": {},
   "outputs": [],
   "source": [
    "filtered = filter_data(df, [\"King\", \"England\"])"
   ]
  },
  {
   "cell_type": "code",
   "execution_count": 114,
   "metadata": {},
   "outputs": [
    {
     "name": "stdout",
     "output_type": "stream",
     "text": [
      "49\n"
     ]
    }
   ],
   "source": [
    "print(len(filtered))"
   ]
  },
  {
   "cell_type": "code",
   "execution_count": 115,
   "metadata": {},
   "outputs": [],
   "source": [
    "def filter_data_2(data, words):\n",
    "  # Lowercases all words in the list of words as well as the questions. Returns true if all words in question.\n",
    "  filter = lambda x: all(word.lower() in x.lower() for word in words)\n",
    "  # Applies the lambda function to the Question column and returns the rows where the function returned True\n",
    "  return data.loc[data[\"Question\"].apply(filter)]"
   ]
  },
  {
   "cell_type": "code",
   "execution_count": 116,
   "metadata": {},
   "outputs": [
    {
     "name": "stdout",
     "output_type": "stream",
     "text": [
      "152\n"
     ]
    }
   ],
   "source": [
    "filtered = filter_data_2(df, [\"King\", \"England\"])\n",
    "print(len(filtered))"
   ]
  },
  {
   "cell_type": "code",
   "execution_count": 121,
   "metadata": {},
   "outputs": [],
   "source": [
    "df[\"Float Value\"] = df[\"Value\"].apply(lambda x: float(x[1:].replace(',','')) if x != \"None\" else 0)\n",
    "# the slice pops off the dollar sign\n",
    "# the replace removes any commas in values such as 2,000"
   ]
  },
  {
   "cell_type": "code",
   "execution_count": 128,
   "metadata": {},
   "outputs": [],
   "source": [
    "king_questions = filter_data_2(df, [\"King\"])"
   ]
  },
  {
   "cell_type": "code",
   "execution_count": null,
   "metadata": {},
   "outputs": [],
   "source": []
  },
  {
   "cell_type": "code",
   "execution_count": 130,
   "metadata": {},
   "outputs": [],
   "source": [
    "# what is the average value of questions that contain the word \"King\"?\n",
    "king_questions = filter_data_2(df, [\"King\"])\n",
    "\n",
    "#we have already added the float values to the dataframe.\n",
    "\n",
    "king_mean_value = king_questions[\"Float Value\"].mean()"
   ]
  },
  {
   "cell_type": "code",
   "execution_count": 131,
   "metadata": {},
   "outputs": [
    {
     "name": "stdout",
     "output_type": "stream",
     "text": [
      "771.8833850722094\n"
     ]
    }
   ],
   "source": [
    "print(king_mean_value)"
   ]
  },
  {
   "cell_type": "code",
   "execution_count": 141,
   "metadata": {},
   "outputs": [],
   "source": [
    "# Write a function that returns the count of the unique answers to all of the questions in a dataset\n",
    "# we have the King df above so lets use that as suggested\n",
    "\n",
    "def unique_answers(data):\n",
    "    count_unique = data['Answer'].value_counts()\n",
    "    return count_unique\n",
    "    "
   ]
  },
  {
   "cell_type": "code",
   "execution_count": 142,
   "metadata": {},
   "outputs": [
    {
     "name": "stdout",
     "output_type": "stream",
     "text": [
      "Index(['Show Number', 'Air Date', 'Round', 'Category', 'Value', 'Question',\n",
      "       'Answer', 'words in question', 'Float Value'],\n",
      "      dtype='object')\n"
     ]
    }
   ],
   "source": [
    "print(king_questions.columns)"
   ]
  },
  {
   "cell_type": "code",
   "execution_count": 143,
   "metadata": {},
   "outputs": [
    {
     "data": {
      "text/plain": [
       "Henry VIII        55\n",
       "Solomon           35\n",
       "Richard III       33\n",
       "Louis XIV         31\n",
       "David             30\n",
       "                  ..\n",
       "ATMs               1\n",
       "Pinto              1\n",
       "Bombs              1\n",
       "the Today show     1\n",
       "dolmen             1\n",
       "Name: Answer, Length: 5268, dtype: int64"
      ]
     },
     "execution_count": 143,
     "metadata": {},
     "output_type": "execute_result"
    }
   ],
   "source": [
    "unique_answers(king_questions)"
   ]
  },
  {
   "cell_type": "code",
   "execution_count": 170,
   "metadata": {},
   "outputs": [],
   "source": [
    "# How many questions from the 90s use the word \"Computer\" compared to questions from the 2000s?\n",
    "# Lets add the year to the df\n",
    "df[\"Year\"] = df[\"Air Date\"].apply(lambda x: (x[:4] if x != \"None\" else 0))\n",
    "\n"
   ]
  },
  {
   "cell_type": "code",
   "execution_count": 171,
   "metadata": {},
   "outputs": [],
   "source": [
    "# Use our filter function to look for computer in Questions\n",
    "computer_questions = filter_data_2(df, [\"Computer\"])"
   ]
  },
  {
   "cell_type": "code",
   "execution_count": 173,
   "metadata": {},
   "outputs": [],
   "source": [
    "small_df = df[[\"Air Date\",\"Question\"]]"
   ]
  },
  {
   "cell_type": "code",
   "execution_count": 176,
   "metadata": {},
   "outputs": [
    {
     "name": "stdout",
     "output_type": "stream",
     "text": [
      "     Air Date                                           Question  Year\n",
      "0  2004-12-31  For the last 8 years of his life, Galileo was ...  2004\n",
      "1  2004-12-31  No. 2: 1912 Olympian; football star at Carlisl...  2004\n",
      "2  2004-12-31  The city of Yuma in this state has a record av...  2004\n",
      "3  2004-12-31  In 1963, live on \"The Art Linkletter Show\", th...  2004\n",
      "4  2004-12-31  Signer of the Dec. of Indep., framer of the Co...  2004\n",
      "     Air Date                                           Question  Year\n",
      "0  2004-12-31  For the last 8 years of his life, Galileo was ...  2004\n",
      "1  2004-12-31  No. 2: 1912 Olympian; football star at Carlisl...  2004\n",
      "2  2004-12-31  The city of Yuma in this state has a record av...  2004\n",
      "3  2004-12-31  In 1963, live on \"The Art Linkletter Show\", th...  2004\n",
      "4  2004-12-31  Signer of the Dec. of Indep., framer of the Co...  2004\n"
     ]
    },
    {
     "name": "stderr",
     "output_type": "stream",
     "text": [
      "<ipython-input-176-95e21595c6f8>:2: SettingWithCopyWarning: \n",
      "A value is trying to be set on a copy of a slice from a DataFrame.\n",
      "Try using .loc[row_indexer,col_indexer] = value instead\n",
      "\n",
      "See the caveats in the documentation: https://pandas.pydata.org/pandas-docs/stable/user_guide/indexing.html#returning-a-view-versus-a-copy\n",
      "  small_df[\"Year\"] = small_df[\"Air Date\"].apply(lambda x: (x[:4] if x != \"None\" else 0))\n"
     ]
    }
   ],
   "source": [
    "print(small_df.head(5))\n",
    "small_df[\"Year\"] = small_df[\"Air Date\"].apply(lambda x: (x[:4] if x != \"None\" else 0))\n",
    "print(small_df.head(5))\n",
    "\n",
    "# We get a warning as it recognizes small_df is a slice of df and its making sure this is what we want to do?"
   ]
  },
  {
   "cell_type": "code",
   "execution_count": 178,
   "metadata": {},
   "outputs": [],
   "source": [
    "# Lets do it with loc instead\n",
    "\n",
    "small_df_with_loc = df.loc[:,['Air Date','Question']]"
   ]
  },
  {
   "cell_type": "code",
   "execution_count": 182,
   "metadata": {},
   "outputs": [],
   "source": [
    "# No copy warning!\n",
    "small_df_with_loc[\"Decade\"] = small_df_with_loc[\"Air Date\"].apply(lambda x: (x[:3] if x != \"None\" else 0))"
   ]
  },
  {
   "cell_type": "code",
   "execution_count": 183,
   "metadata": {},
   "outputs": [
    {
     "name": "stdout",
     "output_type": "stream",
     "text": [
      "     Air Date                                           Question  Year Decade\n",
      "0  2004-12-31  For the last 8 years of his life, Galileo was ...  2004    200\n",
      "1  2004-12-31  No. 2: 1912 Olympian; football star at Carlisl...  2004    200\n",
      "2  2004-12-31  The city of Yuma in this state has a record av...  2004    200\n",
      "3  2004-12-31  In 1963, live on \"The Art Linkletter Show\", th...  2004    200\n",
      "4  2004-12-31  Signer of the Dec. of Indep., framer of the Co...  2004    200\n"
     ]
    }
   ],
   "source": [
    "print(small_df_with_loc.head(5))"
   ]
  },
  {
   "cell_type": "code",
   "execution_count": 186,
   "metadata": {},
   "outputs": [
    {
     "name": "stdout",
     "output_type": "stream",
     "text": [
      "200    123852\n",
      "199     56745\n",
      "201     28225\n",
      "198      8108\n",
      "Name: Decade, dtype: int64\n"
     ]
    }
   ],
   "source": [
    "# Now we need to know if its 90s or 2000s???\n",
    "# Lets take a look at the year column\n",
    "print(small_df_with_loc['Decade'].value_counts()) # we have some in 2010s and 80s so we need to clean"
   ]
  },
  {
   "cell_type": "code",
   "execution_count": 215,
   "metadata": {},
   "outputs": [],
   "source": [
    "#lets filter questions with computer in our small df\n",
    "computer_questions = filter_data_2(small_df_with_loc, [\"Computer\"])\n",
    "# print(computer_questions.info())\n",
    "computer_questions_rows = len(computer_questions)"
   ]
  },
  {
   "cell_type": "code",
   "execution_count": 216,
   "metadata": {},
   "outputs": [
    {
     "name": "stdout",
     "output_type": "stream",
     "text": [
      "  Decade  Year\n",
      "0    198     6\n",
      "1    199    98\n",
      "2    200   268\n",
      "3    201    59\n"
     ]
    }
   ],
   "source": [
    "#Lets group by decade to see where the most questions were\n",
    "computers = computer_questions.groupby('Decade').Year.count().reset_index()\n",
    "print(computers)"
   ]
  },
  {
   "cell_type": "code",
   "execution_count": 219,
   "metadata": {},
   "outputs": [],
   "source": [
    "computers[\"Percent\"] = computers.Year.apply(lambda x: float(x)/float(computer_questions_rows)*100)"
   ]
  },
  {
   "cell_type": "code",
   "execution_count": 220,
   "metadata": {},
   "outputs": [
    {
     "name": "stdout",
     "output_type": "stream",
     "text": [
      "  Decade  Year    Percent\n",
      "0    198     6   1.392111\n",
      "1    199    98  22.737819\n",
      "2    200   268  62.180974\n",
      "3    201    59  13.689095\n"
     ]
    }
   ],
   "source": [
    "print(computers)"
   ]
  },
  {
   "cell_type": "code",
   "execution_count": 221,
   "metadata": {
    "scrolled": true
   },
   "outputs": [
    {
     "name": "stdout",
     "output_type": "stream",
     "text": [
      "Jeopardy!           107384\n",
      "Double Jeopardy!    105912\n",
      "Final Jeopardy!       3631\n",
      "Tiebreaker               3\n",
      "Name: Round, dtype: int64\n",
      "BEFORE & AFTER                    547\n",
      "SCIENCE                           519\n",
      "LITERATURE                        496\n",
      "AMERICAN HISTORY                  418\n",
      "POTPOURRI                         401\n",
      "                                 ... \n",
      "CURRENT WORLD LEADERS               1\n",
      "FINANCIERS                          1\n",
      "U.S. TRAVEL AND TOURISM             1\n",
      "THE WORLD OF CINEMA                 1\n",
      "TELECOMMUNICATIONS TERMINOLOGY      1\n",
      "Name: Category, Length: 27995, dtype: int64\n"
     ]
    }
   ],
   "source": [
    "# Is there a connection between the round and the category? \n",
    "print(df['Round'].value_counts())\n",
    "print(df['Category'].value_counts())"
   ]
  },
  {
   "cell_type": "code",
   "execution_count": 234,
   "metadata": {},
   "outputs": [
    {
     "name": "stdout",
     "output_type": "stream",
     "text": [
      "BEFORE & AFTER             547\n",
      "SCIENCE                    519\n",
      "LITERATURE                 496\n",
      "AMERICAN HISTORY           418\n",
      "POTPOURRI                  401\n",
      "WORLD HISTORY              377\n",
      "WORD ORIGINS               371\n",
      "COLLEGES & UNIVERSITIES    351\n",
      "HISTORY                    349\n",
      "SPORTS                     342\n",
      "U.S. CITIES                339\n",
      "WORLD GEOGRAPHY            338\n",
      "BODIES OF WATER            327\n",
      "ANIMALS                    324\n",
      "STATE CAPITALS             314\n",
      "BUSINESS & INDUSTRY        311\n",
      "ISLANDS                    301\n",
      "WORLD CAPITALS             300\n",
      "U.S. GEOGRAPHY             299\n",
      "RELIGION                   297\n",
      "Name: Category, dtype: int64\n"
     ]
    }
   ],
   "source": [
    "# Lots of categories so lets only look at the top 10\n",
    "category_counts = df['Category'].value_counts()\n",
    "print(category_counts.head(20))"
   ]
  },
  {
   "cell_type": "code",
   "execution_count": 243,
   "metadata": {},
   "outputs": [],
   "source": [
    "# New dataframe with only those categories\n",
    "# Not elegant \n",
    "df_top_categories = df[(df.Category == 'BEFORE & AFTER')|\\\n",
    "                       (df.Category == 'SCIENCE')|\\\n",
    "                       (df.Category == 'LITERATURE')|\\\n",
    "                       (df.Category == 'AMERICAN HISTORY')|\\\n",
    "                       (df.Category == 'POTPOURRI')|\\\n",
    "                       (df.Category == 'WORLD HISTORY')|\\\n",
    "                       (df.Category == 'WORD ORIGINS')|\\\n",
    "                       (df.Category == 'COLLEGES & UNIVERSITIES')|\\\n",
    "                       (df.Category == 'HISTORY')|\\\n",
    "                       (df.Category == 'SPORTS')|\\\n",
    "                       (df.Category == 'U.S. CITIES')|\\\n",
    "                       (df.Category == 'WORLD GEOGRAPHY')|\\\n",
    "                       (df.Category == 'BODIES OF WATER')|\\\n",
    "                       (df.Category == 'ANIMALS')|\\\n",
    "                       (df.Category == 'STATE CAPITALS')|\\\n",
    "                       (df.Category == 'BUSINESS & INDUSTRY')|\\\n",
    "                       (df.Category == 'ISLANDS')|\\\n",
    "                       (df.Category == 'WORLD CAPITALS')|\\\n",
    "                       (df.Category == 'U.S. GEOGRAPHY')|\\\n",
    "                       (df.Category == 'RELIGION')\n",
    "                      ]\n",
    "                       "
   ]
  },
  {
   "cell_type": "code",
   "execution_count": 250,
   "metadata": {},
   "outputs": [],
   "source": [
    "round_categories = df_top_categories.groupby(['Category','Round']).Year.count().reset_index()"
   ]
  },
  {
   "cell_type": "code",
   "execution_count": 251,
   "metadata": {},
   "outputs": [
    {
     "name": "stdout",
     "output_type": "stream",
     "text": [
      "                   Category             Round  Year\n",
      "0          AMERICAN HISTORY  Double Jeopardy!   174\n",
      "1          AMERICAN HISTORY   Final Jeopardy!    17\n",
      "2          AMERICAN HISTORY         Jeopardy!   227\n",
      "3                   ANIMALS  Double Jeopardy!    79\n",
      "4                   ANIMALS   Final Jeopardy!    12\n",
      "5                   ANIMALS         Jeopardy!   233\n",
      "6            BEFORE & AFTER  Double Jeopardy!   450\n",
      "7            BEFORE & AFTER         Jeopardy!    97\n",
      "8           BODIES OF WATER  Double Jeopardy!   171\n",
      "9           BODIES OF WATER   Final Jeopardy!     6\n",
      "10          BODIES OF WATER         Jeopardy!   150\n",
      "11      BUSINESS & INDUSTRY  Double Jeopardy!   103\n",
      "12      BUSINESS & INDUSTRY   Final Jeopardy!    23\n",
      "13      BUSINESS & INDUSTRY         Jeopardy!   185\n",
      "14  COLLEGES & UNIVERSITIES  Double Jeopardy!   220\n",
      "15  COLLEGES & UNIVERSITIES   Final Jeopardy!     6\n",
      "16  COLLEGES & UNIVERSITIES         Jeopardy!   125\n",
      "17                  HISTORY  Double Jeopardy!   194\n",
      "18                  HISTORY         Jeopardy!   155\n",
      "19                  ISLANDS  Double Jeopardy!   215\n",
      "20                  ISLANDS   Final Jeopardy!    17\n",
      "21                  ISLANDS         Jeopardy!    69\n",
      "22               LITERATURE  Double Jeopardy!   381\n",
      "23               LITERATURE   Final Jeopardy!    10\n",
      "24               LITERATURE         Jeopardy!   105\n",
      "25                POTPOURRI  Double Jeopardy!   146\n",
      "26                POTPOURRI         Jeopardy!   255\n",
      "27                 RELIGION  Double Jeopardy!   172\n",
      "28                 RELIGION   Final Jeopardy!     8\n",
      "29                 RELIGION         Jeopardy!   117\n",
      "30                  SCIENCE  Double Jeopardy!   296\n",
      "31                  SCIENCE   Final Jeopardy!     6\n",
      "32                  SCIENCE         Jeopardy!   217\n",
      "33                   SPORTS  Double Jeopardy!    81\n",
      "34                   SPORTS   Final Jeopardy!     8\n",
      "35                   SPORTS         Jeopardy!   253\n",
      "36           STATE CAPITALS  Double Jeopardy!    73\n",
      "37           STATE CAPITALS   Final Jeopardy!    31\n",
      "38           STATE CAPITALS         Jeopardy!   210\n",
      "39              U.S. CITIES  Double Jeopardy!   125\n",
      "40              U.S. CITIES   Final Jeopardy!    19\n",
      "41              U.S. CITIES         Jeopardy!   195\n",
      "42           U.S. GEOGRAPHY  Double Jeopardy!   108\n",
      "43           U.S. GEOGRAPHY   Final Jeopardy!     8\n",
      "44           U.S. GEOGRAPHY         Jeopardy!   183\n",
      "45             WORD ORIGINS  Double Jeopardy!   192\n",
      "46             WORD ORIGINS   Final Jeopardy!    34\n",
      "47             WORD ORIGINS         Jeopardy!   145\n",
      "48           WORLD CAPITALS  Double Jeopardy!   185\n",
      "49           WORLD CAPITALS   Final Jeopardy!    19\n",
      "50           WORLD CAPITALS         Jeopardy!    96\n",
      "51          WORLD GEOGRAPHY  Double Jeopardy!   254\n",
      "52          WORLD GEOGRAPHY   Final Jeopardy!    19\n",
      "53          WORLD GEOGRAPHY         Jeopardy!    65\n",
      "54            WORLD HISTORY  Double Jeopardy!   237\n",
      "55            WORLD HISTORY   Final Jeopardy!    11\n",
      "56            WORLD HISTORY         Jeopardy!   129\n"
     ]
    }
   ],
   "source": [
    "print(round_categories)"
   ]
  },
  {
   "cell_type": "code",
   "execution_count": 252,
   "metadata": {},
   "outputs": [],
   "source": [
    "# Pivot ittttt\n",
    "pivot_categories_round = round_categories.pivot(\n",
    "  columns = 'Round',\n",
    "  index = 'Category',\n",
    "  values = 'Year'\n",
    ")"
   ]
  },
  {
   "cell_type": "code",
   "execution_count": 253,
   "metadata": {},
   "outputs": [
    {
     "name": "stdout",
     "output_type": "stream",
     "text": [
      "Round                    Double Jeopardy!  Final Jeopardy!  Jeopardy!\n",
      "Category                                                             \n",
      "AMERICAN HISTORY                    174.0             17.0      227.0\n",
      "ANIMALS                              79.0             12.0      233.0\n",
      "BEFORE & AFTER                      450.0              NaN       97.0\n",
      "BODIES OF WATER                     171.0              6.0      150.0\n",
      "BUSINESS & INDUSTRY                 103.0             23.0      185.0\n",
      "COLLEGES & UNIVERSITIES             220.0              6.0      125.0\n",
      "HISTORY                             194.0              NaN      155.0\n",
      "ISLANDS                             215.0             17.0       69.0\n",
      "LITERATURE                          381.0             10.0      105.0\n",
      "POTPOURRI                           146.0              NaN      255.0\n",
      "RELIGION                            172.0              8.0      117.0\n",
      "SCIENCE                             296.0              6.0      217.0\n",
      "SPORTS                               81.0              8.0      253.0\n",
      "STATE CAPITALS                       73.0             31.0      210.0\n",
      "U.S. CITIES                         125.0             19.0      195.0\n",
      "U.S. GEOGRAPHY                      108.0              8.0      183.0\n",
      "WORD ORIGINS                        192.0             34.0      145.0\n",
      "WORLD CAPITALS                      185.0             19.0       96.0\n",
      "WORLD GEOGRAPHY                     254.0             19.0       65.0\n",
      "WORLD HISTORY                       237.0             11.0      129.0\n"
     ]
    }
   ],
   "source": [
    "print(pivot_a)"
   ]
  },
  {
   "cell_type": "code",
   "execution_count": null,
   "metadata": {},
   "outputs": [],
   "source": [
    "#Now we can easily see that Literature is more like to pop up in Double Jeopardy"
   ]
  }
 ],
 "metadata": {
  "kernelspec": {
   "display_name": "Python 3",
   "language": "python",
   "name": "python3"
  },
  "language_info": {
   "codemirror_mode": {
    "name": "ipython",
    "version": 3
   },
   "file_extension": ".py",
   "mimetype": "text/x-python",
   "name": "python",
   "nbconvert_exporter": "python",
   "pygments_lexer": "ipython3",
   "version": "3.8.5"
  }
 },
 "nbformat": 4,
 "nbformat_minor": 4
}
